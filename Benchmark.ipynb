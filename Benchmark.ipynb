{
 "cells": [
  {
   "cell_type": "code",
   "execution_count": null,
   "metadata": {},
   "outputs": [],
   "source": [
    "# Torch\n",
    "import torch\n",
    "\n",
    "# Triton \n",
    "\n",
    "# Utils\n",
    "import time\n",
    "\n",
    "# Local\n",
    "from attention_impl.naive_mla import MLA as DS_MLA\n",
    "from attention_impl.Shared_Args import Args\n",
    "from attention_impl.General_Layers import precompute_freqs_cis, EmbeddingLayer"
   ]
  },
  {
   "cell_type": "code",
   "execution_count": null,
   "metadata": {},
   "outputs": [],
   "source": [
    "default_dtype = \"bf16\"\n",
    "Naive_Args = Args(dtype=default_dtype)\n",
    "Absorb_Args = Args(attn_impl = \"absorb\", dtype=default_dtype)"
   ]
  },
  {
   "cell_type": "code",
   "execution_count": null,
   "metadata": {},
   "outputs": [],
   "source": [
    "Naive_MLA = DS_MLA(Naive_Args).cuda().eval()\n",
    "Absorbed_MLA = DS_MLA(Absorb_Args).cuda().eval()"
   ]
  },
  {
   "cell_type": "code",
   "execution_count": null,
   "metadata": {},
   "outputs": [],
   "source": [
    "# Shared Args\n",
    "qk_rope_dim = Naive_Args.qk_rope_head_dim\n",
    "vocab_size = Naive_Args.vocab_size\n",
    "dim = Naive_Args.dim\n",
    "\n",
    "if Naive_Args.dtype == \"bf16\":\n",
    "    dtype = torch.bfloat16\n",
    "else:\n",
    "    dtype = torch.float8_e4m3fn\n",
    "\n",
    "# Set Default Torch dtype and device\n",
    "torch.set_default_device('cuda')\n",
    "torch.set_default_dtype(dtype)\n",
    "torch.manual_seed(0)"
   ]
  },
  {
   "cell_type": "code",
   "execution_count": null,
   "metadata": {},
   "outputs": [],
   "source": [
    "# Setup Args\n",
    "bsz = 4\n",
    "seqlen = 512\n",
    "\n",
    "# Create Embedding Layer\n",
    "embedding_layer = EmbeddingLayer(vocab_size,dim)\n",
    "\n",
    "# Create X then Embedd it\n",
    "x = torch.randint(0, vocab_size, (bsz, seqlen), device='cuda')\n",
    "x_emb = embedding_layer(x)\n",
    "print(x_emb.size())\n",
    "\n",
    "# Create a Freq_Cis and Mask\n",
    "freqs_cis = precompute_freqs_cis(Naive_Args)\n",
    "mask = torch.full((seqlen, seqlen), float(\"-inf\"), device=x.device).triu_(1)\n",
    "\n",
    "# Set Start Position\n",
    "start_pos = 0"
   ]
  },
  {
   "cell_type": "code",
   "execution_count": null,
   "metadata": {},
   "outputs": [],
   "source": [
    "# Warm-up\n",
    "for _ in range(10):\n",
    "    freqs_cis = freqs_cis[start_pos:start_pos+seqlen]\n",
    "    _ = Naive_MLA(x_emb, start_pos=start_pos, freqs_cis=freqs_cis, mask=mask)\n",
    "\n",
    "# 4. Timed benchmarking\n",
    "torch.cuda.synchronize()\n",
    "start = time.time()\n",
    "for _ in range(50):\n",
    "    _ = Naive_MLA(x, start_pos=start_pos, freqs_cis=freqs_cis, mask=mask)\n",
    "torch.cuda.synchronize()\n",
    "end = time.time()\n",
    "\n",
    "print(f\"Avg forward pass time: {(end - start)/50:.6f} sec\")"
   ]
  },
  {
   "cell_type": "code",
   "execution_count": null,
   "metadata": {},
   "outputs": [],
   "source": []
  }
 ],
 "metadata": {
  "kernelspec": {
   "display_name": ".venv",
   "language": "python",
   "name": "python3"
  },
  "language_info": {
   "codemirror_mode": {
    "name": "ipython",
    "version": 3
   },
   "file_extension": ".py",
   "mimetype": "text/x-python",
   "name": "python",
   "nbconvert_exporter": "python",
   "pygments_lexer": "ipython3",
   "version": "3.12.9"
  },
  "orig_nbformat": 4
 },
 "nbformat": 4,
 "nbformat_minor": 2
}
